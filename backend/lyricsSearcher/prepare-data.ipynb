{
 "cells": [
  {
   "cell_type": "code",
   "execution_count": 35,
   "metadata": {},
   "outputs": [],
   "source": [
    "import os\n",
    "\n",
    "data_loc = \"../db/lyrics\"\n",
    "dirs = os.listdir(data_loc)"
   ]
  },
  {
   "cell_type": "code",
   "execution_count": 36,
   "metadata": {},
   "outputs": [],
   "source": [
    "data_out = open(\"../db/all-lyrics.txt\", \"w\")\n",
    "for data_dir in dirs:\n",
    "    files = os.listdir(data_loc+\"/\"+data_dir)\n",
    "    for file in files: \n",
    "        data_in = open(data_loc+\"/\"+data_dir+\"/\"+file)\n",
    "        file = file.replace(\"_\", \" \")\n",
    "        file = file.replace(\".txt\", \"\")\n",
    "        out = file.replace(\"_\", \" \") + \"[SEP]\"\n",
    "        for line in data_in:\n",
    "            line = line.rstrip()\n",
    "            line+=\" \"\n",
    "            out+=line\n",
    "        out+= \"\\n\"\n",
    "        data_out.write(out)\n",
    "        \n",
    "    #print(files)\n",
    "    \n",
    "\n",
    "data_out.close()\n",
    "    "
   ]
  },
  {
   "cell_type": "code",
   "execution_count": 7,
   "metadata": {},
   "outputs": [
    {
     "data": {
      "text/plain": [
       "'Gary Wright'"
      ]
     },
     "execution_count": 7,
     "metadata": {},
     "output_type": "execute_result"
    }
   ],
   "source": []
  },
  {
   "cell_type": "code",
   "execution_count": 24,
   "metadata": {},
   "outputs": [],
   "source": []
  },
  {
   "cell_type": "code",
   "execution_count": null,
   "metadata": {},
   "outputs": [],
   "source": []
  }
 ],
 "metadata": {
  "kernelspec": {
   "display_name": "Python 3",
   "language": "python",
   "name": "python3"
  },
  "language_info": {
   "codemirror_mode": {
    "name": "ipython",
    "version": 3
   },
   "file_extension": ".py",
   "mimetype": "text/x-python",
   "name": "python",
   "nbconvert_exporter": "python",
   "pygments_lexer": "ipython3",
   "version": "3.8.5"
  }
 },
 "nbformat": 4,
 "nbformat_minor": 4
}
